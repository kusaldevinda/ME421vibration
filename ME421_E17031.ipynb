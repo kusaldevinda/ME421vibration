{
  "nbformat": 4,
  "nbformat_minor": 0,
  "metadata": {
    "colab": {
      "provenance": []
    },
    "kernelspec": {
      "name": "python3",
      "display_name": "Python 3"
    },
    "language_info": {
      "name": "python"
    }
  },
  "cells": [
    {
      "cell_type": "markdown",
      "source": [
        "#Q - Rotating shaft on a flexural structure: Group Rankine-RF"
      ],
      "metadata": {
        "id": "RZ3DFpyRpiUU"
      }
    },
    {
      "cell_type": "markdown",
      "source": [
        "\n",
        "\n",
        "1.   Answer the in the lab, [pre-requisite competency assessment quiz.](https://feelsnew.pdn.ac.lk/mod/quiz/view.php?id=7869)\n",
        "2.   With detailed justification derive a finite dimensional approximation of the small amplitude motion of the system shown in the video assigned to your group. The model should capture the first four modes of resonance of the system.\n",
        "3. Simulate and animate the small amplitude motion of the system and use the simulations to provide, with justification, a qualitative desrcription of the small amplitude motion of the system\n",
        "4. Provide at least two soultions that will allow you to safely operate at frequencies near the second mode of resonance of the system. Justify your answer using simulations and compare the pros and cons of the two solutions.\n",
        "4. Use a Rashpberry Pi based data aquistion system and use that to measure the natural frequencies of the 2-DOF rotational plus translational system in the applied mechanics lab using FFTs methods.\n",
        "5. All your work will be collected and reported in a .ipynb notebook that will be maintained in a Github repository allocated to your group. All equations and mathematical expressions should be typed in LaTeX and all comutations should be performed using Python and should be contained in the same .ipynb notebbok.\n",
        "\n"
      ],
      "metadata": {
        "id": "-B7sQ99164ym"
      }
    },
    {
      "cell_type": "markdown",
      "source": [
        "https://youtu.be/R2hO--TIjjA"
      ],
      "metadata": {
        "id": "e2xdEmZFqHdD"
      }
    },
    {
      "cell_type": "markdown",
      "source": [
        "**Static Balance**\n",
        "simple situation where two masses are mounted on a shaft. If the shaft is to be statically balanced, the moment due to weight of mass (1) tending to rotate the shaft clockwise must equal that of mass (2) trying to turn the shaft in the opposite direction.\n",
        "\n",
        "\\begin{align}\n",
        "W_1r_1=W_2 r_2 ---------(1)\n",
        "\\end{align}\n",
        "\n",
        " Hence for static balance,The same principle holds if there are more than two masses mounted on the shaft.\n",
        "\n",
        " \\begin{align}\n",
        "W_1r_1cos(\\alpha_1)=W_2r_2cos(\\alpha_2)+ W_3r_3cos(\\alpha_3)\n",
        "\\end{align}\n",
        "\n",
        "**Dynamic Balancing**\n",
        "The masses are subjected to centrifugal forces when the shaft is rotating. Two conditions must be satisfied if the shaft is not to vibrate as it rotates:\n",
        "\n",
        "1. There must be no out of balance centrifugal force trying to deflect the shaft.\n",
        "\n",
        "2. There must be no out of balance moment or couple trying to twist the shaft.\n",
        "\n",
        "If these conditions are not fulfilled, the shaft is not dynamically balanced.\n",
        "\n",
        "Apply condition 1,\n",
        "\n",
        "\\begin{align}\n",
        "F_1=F_2 -------(3)\n",
        "\\end{align}\n",
        "\n",
        "The centrigugal force is $mr\\omega^2$ or $W/2r\\omega^2$. Hence by (3),\n",
        "\n",
        "\\begin{align}\n",
        "\\frac{W_1}{g}r_1\\omega^2 =\\frac{W_2}{r_2}r_2\\omega^2\n",
        "\\end{align}\n",
        "\n",
        "The angular speed of rotation is the same for each mass so that for dynamic balance,\n",
        "\n",
        "\\begin{align}\n",
        "W_1r_1=W_2r_2\n",
        "\\end{align}\n",
        "\n",
        "This is the same result obtained in equation (1) for the balance of the shaft. thus if a shaft is dynamically balanced it will also be statically balanced.\n",
        "\n",
        "The second condition is satisfied by taking moments about some convenient datum such as one of the bearings. Thus,\n",
        "\n",
        "\\begin{align}\n",
        "a_1F_1=a_2F_2\n",
        "\\end{align}"
      ],
      "metadata": {
        "id": "QMWXA8_6-ZcF"
      }
    },
    {
      "cell_type": "markdown",
      "source": [
        "**motion equations for the static unbalance**\n",
        "\\begin{align}\n",
        "m\\ddot{x}+b\\dot{x}+kx=Fcos(wt) \\\\\n",
        "m\\ddot{y}+b\\dot{y}+ky=Fsin(wt)\n",
        "\\end{align}\n",
        "where $b$ is the damping coefficient and $k$ is spring coefficient"
      ],
      "metadata": {
        "id": "PLOpFmPIBEUS"
      }
    },
    {
      "cell_type": "markdown",
      "source": [
        "**motion equations for dynamic unbalance**\n",
        "\\begin{align}\n",
        "I\\ddot{\\theta}_{x}+\\omega I\\dot{\\theta}_{y}+K\\theta_{x} = Mcos(wt) \\\\\n",
        "I\\ddot{\\theta}_{y}-\\omega I\\dot{\\theta}_{x}+K\\theta_{y} = Msin(wt)\n",
        "\\end{align}"
      ],
      "metadata": {
        "id": "Ljno-DA4BI_Q"
      }
    },
    {
      "cell_type": "markdown",
      "source": [
        "Adding of the balance mass for static balancing"
      ],
      "metadata": {
        "id": "_Ip2Bau8AXWi"
      }
    },
    {
      "cell_type": "markdown",
      "source": [
        "\\begin{align}\n",
        "m_c\\ddot{x}+b\\dot{x}+kx=m_s(r+z')\\omega^2cos(\\omega{t})+m_b(rb-z')\\omega^2cos(\\omega{t}+\\phi)\\\\\n",
        "m_c\\ddot{y}+b\\dot{y}+ky=m_s(r+z')\\omega^2sin(\\omega{t})+m_b(rb-z')\\omega^2sin(\\omega{t}+\\phi)\n",
        "\\end{align}"
      ],
      "metadata": {
        "id": "GzCAO098-11D"
      }
    }
  ]
}